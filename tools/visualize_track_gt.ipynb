{
 "cells": [
  {
   "cell_type": "code",
   "execution_count": null,
   "metadata": {},
   "outputs": [],
   "source": [
    "import cv2  # NOQA (Must import before importing caffe2 due to bug in cv2)\n",
    "import warnings\n",
    "warnings.filterwarnings(\"ignore\")\n",
    "import matplotlib.pyplot as plt\n",
    "import numpy as np\n",
    "\n",
    "from caffe2.python import workspace\n",
    "\n",
    "%matplotlib inline\n",
    "\n",
    "import detectron.datasets.dummy_datasets as dummy_datasets\n",
    "import detectron.utils.c2 as c2_utils\n",
    "import detectron.utils.vis as vis_utils\n",
    "\n",
    "\n",
    "c2_utils.import_detectron_ops()\n",
    "c2_utils.import_custom_ops()\n",
    "\n",
    "# OpenCL may be enabled by default in OpenCV3; disable it because it's not\n",
    "# thread safe and causes unwanted GPU memory allocations.\n",
    "cv2.ocl.setUseOpenCL(False)\n",
    "\n",
    "workspace.GlobalInit(['caffe2', '--caffe2_log_level=0'])\n",
    "\n",
    "dummy_mot_dataset = dummy_datasets.get_mot_dataset()\n",
    "\n",
    "from detectron.datasets.json_dataset import JsonDataset\n",
    "def get_roidb(dataset_name):\n",
    "    ds = JsonDataset(dataset_name)\n",
    "    roidb = ds.get_roidb(gt=True)\n",
    "    return roidb\n",
    "roidb = get_roidb('mot_2017_overtrain')\n",
    "\n",
    "im_list = [cv2.imread(im_data['image']) for im_data in roidb]\n",
    "\n",
    "show_class = False\n",
    "show_track = True\n",
    "\n",
    "track_gt = np.array([float(id_one == id_two) for id_one in roidb[0]['track_ids'] for id_two in roidb[1]['track_ids']])\n",
    "im_one_gt, im_two_gt = vis_utils.vis_image_pair_opencv_gt(\n",
    "    [im.copy() for im in im_list],\n",
    "    [im_data['gt_classes'] for im_data in roidb],\n",
    "    [im_data['boxes'] for im_data in roidb],\n",
    "    [None] * len(roidb),\n",
    "    [None] * len(roidb),\n",
    "    track_gt,\n",
    "    dataset=dummy_mot_dataset,\n",
    "    show_class=show_class,\n",
    "    show_track=show_track,\n",
    "    show_box=True,\n",
    ")\n",
    "\n",
    "ax = vis_utils.get_ax(2, shape=im.shape, title=\"Ground truth\")\n",
    "ax[0].imshow(cv2.cvtColor(im_one_gt, cv2.COLOR_BGR2RGB))\n",
    "ax[1].imshow(cv2.cvtColor(im_two_gt, cv2.COLOR_BGR2RGB))\n",
    "plt.show()"
   ]
  }
 ],
 "metadata": {
  "kernelspec": {
   "display_name": "Python 2",
   "language": "python",
   "name": "python2"
  },
  "language_info": {
   "codemirror_mode": {
    "name": "ipython",
    "version": 2
   },
   "file_extension": ".py",
   "mimetype": "text/x-python",
   "name": "python",
   "nbconvert_exporter": "python",
   "pygments_lexer": "ipython2",
   "version": "2.7.12"
  }
 },
 "nbformat": 4,
 "nbformat_minor": 2
}
